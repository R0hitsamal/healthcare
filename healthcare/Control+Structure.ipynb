{
 "cells": [
  {
   "cell_type": "code",
   "execution_count": 38,
   "metadata": {},
   "outputs": [
    {
     "name": "stdout",
     "output_type": "stream",
     "text": [
      "Goodbye\n"
     ]
    }
   ],
   "source": [
    "x = 4\n",
    "\n",
    "if(x == 2):\n",
    "    print('These numbers are equal')\n",
    "    \n",
    "print('Goodbye')    "
   ]
  },
  {
   "cell_type": "code",
   "execution_count": 41,
   "metadata": {},
   "outputs": [
    {
     "name": "stdout",
     "output_type": "stream",
     "text": [
      "I know you\n",
      "Bye\n"
     ]
    }
   ],
   "source": [
    "name = 'Moses'\n",
    "\n",
    "if(name == 'Moses'):\n",
    "    print('I know you')\n",
    "    \n",
    "print('Bye')    "
   ]
  },
  {
   "cell_type": "code",
   "execution_count": 43,
   "metadata": {},
   "outputs": [
    {
     "name": "stdout",
     "output_type": "stream",
     "text": [
      "These numbers Are Not Equal\n"
     ]
    }
   ],
   "source": [
    "y = 4\n",
    "\n",
    "if(y==5):\n",
    "    print('These Numbers Are Equal')\n",
    "else:\n",
    "    print('These numbers Are Not Equal')"
   ]
  },
  {
   "cell_type": "code",
   "execution_count": 46,
   "metadata": {},
   "outputs": [
    {
     "name": "stdout",
     "output_type": "stream",
     "text": [
      "Your gender is uknown\n"
     ]
    }
   ],
   "source": [
    "\n",
    "gender = 'Other'\n",
    "\n",
    "if(gender == 'Male'):\n",
    "    print('You are Gentlemen')\n",
    "elif(gender == 'Female'):\n",
    "    print('You are lady')\n",
    "else:\n",
    "    print('Your gender is uknown')"
   ]
  },
  {
   "cell_type": "code",
   "execution_count": 47,
   "metadata": {},
   "outputs": [
    {
     "name": "stdout",
     "output_type": "stream",
     "text": [
      "Below is the list of fruits\n",
      "apple\n",
      "banana\n",
      "mango\n",
      "avocado\n"
     ]
    }
   ],
   "source": [
    "fruits = ['apple','banana','mango','avocado']\n",
    "print(\"Below is the list of fruits\")\n",
    "for i in fruits:\n",
    "    print(i)"
   ]
  },
  {
   "cell_type": "code",
   "execution_count": 48,
   "metadata": {},
   "outputs": [
    {
     "name": "stdout",
     "output_type": "stream",
     "text": [
      "1\n",
      "2\n",
      "3\n",
      "4\n",
      "5\n",
      "The final value is 4 \n"
     ]
    }
   ],
   "source": [
    "for i in range(5):\n",
    "    print(i+1)\n",
    "    \n",
    "print('The final value is %s ' %i)    "
   ]
  },
  {
   "cell_type": "code",
   "execution_count": 49,
   "metadata": {},
   "outputs": [
    {
     "name": "stdout",
     "output_type": "stream",
     "text": [
      "1\n",
      "2\n",
      "3\n",
      "4\n",
      "5\n",
      "The code ended at 6 \n"
     ]
    }
   ],
   "source": [
    "n =1\n",
    "\n",
    "while n<6:\n",
    "    print(n)\n",
    "    n= n + 1\n",
    "    \n",
    "print('The code ended at %s ' %n)    "
   ]
  },
  {
   "cell_type": "code",
   "execution_count": null,
   "metadata": {},
   "outputs": [],
   "source": []
  }
 ],
 "metadata": {
  "kernelspec": {
   "display_name": "Python 3",
   "language": "python",
   "name": "python3"
  },
  "language_info": {
   "codemirror_mode": {
    "name": "ipython",
    "version": 3
   },
   "file_extension": ".py",
   "mimetype": "text/x-python",
   "name": "python",
   "nbconvert_exporter": "python",
   "pygments_lexer": "ipython3",
   "version": "3.7.4"
  }
 },
 "nbformat": 4,
 "nbformat_minor": 2
}
